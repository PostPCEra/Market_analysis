{
 "cells": [
  {
   "cell_type": "code",
   "execution_count": 215,
   "metadata": {
    "collapsed": false
   },
   "outputs": [
    {
     "ename": "SyntaxError",
     "evalue": "invalid syntax (<ipython-input-215-903593a26b20>, line 1)",
     "output_type": "error",
     "traceback": [
      "\u001b[0;36m  File \u001b[0;32m\"<ipython-input-215-903593a26b20>\"\u001b[0;36m, line \u001b[0;32m1\u001b[0m\n\u001b[0;31m    Lessons Learned\u001b[0m\n\u001b[0m                  ^\u001b[0m\n\u001b[0;31mSyntaxError\u001b[0m\u001b[0;31m:\u001b[0m invalid syntax\n"
     ]
    }
   ],
   "source": [
    "Lessons Learned \n",
    "=========================================\n",
    "1/ when getting errors, do Cell->Run All , so they may go away\n",
    "2/ It seems when using Def functions instead of Flat code with out Defs , we are getting errors\n",
    "3/ But Def will help to use local variable names with out global scope , can use same var names  df etc..."
   ]
  },
  {
   "cell_type": "code",
   "execution_count": 223,
   "metadata": {
    "collapsed": true
   },
   "outputs": [],
   "source": [
    "#import desired packages\n",
    "import numpy as np\n",
    "import pandas as pd\n",
    "import traceback\n",
    "from pprint import pprint\n",
    "import seaborn as sns\n",
    "import matplotlib.pyplot as plt\n",
    "%matplotlib inline "
   ]
  },
  {
   "cell_type": "code",
   "execution_count": 224,
   "metadata": {
    "collapsed": true
   },
   "outputs": [],
   "source": [
    "def extract_SnP_tickersymbols():\n",
    "    try:\n",
    "        # Source file is csv download from  Site http://siblisresearch.com/data/historical-components-sp-500/\n",
    "        # empty \"\" are replaced with \"O\", then we have \"X\" and \"O\"\n",
    "        df = pd.read_csv('seed-SnP-10years-Tickers-Source.csv', header=0)\n",
    "        \n",
    "        # use this CREATEd DF Ready file for later use\n",
    "        df.to_csv('data-SnP-10years-Tickers-dfready.csv', index=False)  \n",
    "        return True\n",
    "    except: \n",
    "        traceback.print_exc()\n",
    "        return False  # retrun False in case of exception"
   ]
  },
  {
   "cell_type": "code",
   "execution_count": 225,
   "metadata": {
    "collapsed": false
   },
   "outputs": [
    {
     "name": "stdout",
     "output_type": "stream",
     "text": [
      "True\n"
     ]
    }
   ],
   "source": [
    "ret = extract_SnP_tickersymbols()\n",
    "print(ret)"
   ]
  },
  {
   "cell_type": "code",
   "execution_count": 226,
   "metadata": {
    "collapsed": true
   },
   "outputs": [],
   "source": [
    "def get_SnP_tickersymbols_for_year(year):\n",
    "    try:\n",
    "        df = pd.read_csv('data-SnP-10years-Tickers-dfready.csv', header=0) # read Master file\n",
    "        \n",
    "        #yr = year - 1\n",
    "        yr = year\n",
    "        df2 = pd.DataFrame()\n",
    "        if yr == 2008:\n",
    "            df2 = df.loc[df['2008'] == 'X']\n",
    "        if yr == 2009:\n",
    "            df2 = df.loc[df['2009'] == 'X'] \n",
    "        if yr == 2010:\n",
    "            df2 = df.loc[df['2010'] == 'X']\n",
    "        if yr == 2011:\n",
    "            df2 = df.loc[df['2011'] == 'X']\n",
    "        if yr == 2012:\n",
    "            df2 = df.loc[df['2012'] == 'X']\n",
    "        if yr == 2013:\n",
    "            df2 = df.loc[df['2013'] == 'X']\n",
    "        if yr == 2014:\n",
    "            df2 = df.loc[df['2014'] == 'X']\n",
    "        if yr == 2015:\n",
    "            df2 = df.loc[df['2015'] == 'X']\n",
    "        if yr == 2016:\n",
    "            df2 = df.loc[df['2016'] == 'X']\n",
    "            \n",
    "        # It is 3 step process 1) create new List of Lists from Dataframe COLUMN Slicing Operation\n",
    "        # 2) next create DataFrame ,  Add Additional columns to DataFrame\n",
    "        # 3) finally Create List from DataFrane and return that LIST,  \n",
    "        #    if we retrun DF , big issues in CONCAT of different DataFrames\n",
    "        lst2 = df2['Ticker'].values.tolist()  # get as list\n",
    "        df3 = pd.DataFrame(lst2)  # create new Data frame \n",
    "        df3['Year'] = yr    # Add year column\n",
    "        \n",
    "        lst3 = df3.values.tolist()  \n",
    "        return lst3\n",
    "    \n",
    "    except: \n",
    "        traceback.print_exc()\n",
    "        return []  # retrun in case of exception"
   ]
  },
  {
   "cell_type": "code",
   "execution_count": 227,
   "metadata": {
    "collapsed": false
   },
   "outputs": [],
   "source": [
    "def create_SnP_tickersymbols_by_year():\n",
    "    llst = [] # hold DataFrame values as List of Lists\n",
    "\n",
    "    for year in range(2008,2016+1):\n",
    "        lst = get_SnP_tickersymbols_for_year(year)\n",
    "        \n",
    "        for x in lst[1:] :    # discard 0 th elements which is header , is provided by lst[1:]\n",
    "            if \"(Old)\" not in x[0]:   # will discard Tickers like  \"AGN (Old)\"\n",
    "                llst.append(x)\n",
    "    \n",
    "    df = pd.DataFrame(llst)\n",
    "    df.columns = ['Ticker', 'Year']\n",
    "    \n",
    "      # use this CREATEd DF Ready file for later use\n",
    "    df.to_csv('data-SnP-10years-Tickers-byyear-dfready.csv', index=False)  \n",
    "    pprint(df)\n",
    "    return True"
   ]
  },
  {
   "cell_type": "code",
   "execution_count": 228,
   "metadata": {
    "collapsed": false
   },
   "outputs": [
    {
     "name": "stdout",
     "output_type": "stream",
     "text": [
      "     Ticker  Year\n",
      "0        AA  2008\n",
      "1      AAPL  2008\n",
      "2       ABC  2008\n",
      "3       ABI  2008\n",
      "4       ABK  2008\n",
      "5       ABT  2008\n",
      "6      ACAS  2008\n",
      "7       ACE  2008\n",
      "8       ACS  2008\n",
      "9      ADBE  2008\n",
      "10      ADI  2008\n",
      "11      ADM  2008\n",
      "12      ADP  2008\n",
      "13     ADSK  2008\n",
      "14      AEE  2008\n",
      "15      AEP  2008\n",
      "16      AES  2008\n",
      "17      AET  2008\n",
      "18      AFL  2008\n",
      "19      AGN  2008\n",
      "20      AIG  2008\n",
      "21      AIV  2008\n",
      "22      AIZ  2008\n",
      "23     AKAM  2008\n",
      "24      ALL  2008\n",
      "25     ALTR  2008\n",
      "26     AMAT  2008\n",
      "27      AMD  2008\n",
      "28     AMGN  2008\n",
      "29      AMP  2008\n",
      "...     ...   ...\n",
      "4459    WHR  2016\n",
      "4460   VIAB  2016\n",
      "4461    VLO  2016\n",
      "4462     WM  2016\n",
      "4463    WMB  2016\n",
      "4464    VMC  2016\n",
      "4465    WMT  2016\n",
      "4466    VNO  2016\n",
      "4467   VRSK  2016\n",
      "4468   VRSN  2016\n",
      "4469   VRTX  2016\n",
      "4470    VTR  2016\n",
      "4471     VZ  2016\n",
      "4472     WU  2016\n",
      "4473     WY  2016\n",
      "4474    WYN  2016\n",
      "4475   WYNN  2016\n",
      "4476    XEC  2016\n",
      "4477    XEL  2016\n",
      "4478     XL  2016\n",
      "4479   XLNX  2016\n",
      "4480    XOM  2016\n",
      "4481   XRAY  2016\n",
      "4482    XRX  2016\n",
      "4483    XYL  2016\n",
      "4484   YHOO  2016\n",
      "4485    YUM  2016\n",
      "4486    ZBH  2016\n",
      "4487   ZION  2016\n",
      "4488    ZTS  2016\n",
      "\n",
      "[4489 rows x 2 columns]\n"
     ]
    },
    {
     "data": {
      "text/plain": [
       "True"
      ]
     },
     "execution_count": 228,
     "metadata": {},
     "output_type": "execute_result"
    }
   ],
   "source": [
    "# main call\n",
    "create_SnP_tickersymbols_by_year()"
   ]
  },
  {
   "cell_type": "code",
   "execution_count": 229,
   "metadata": {
    "collapsed": false
   },
   "outputs": [
    {
     "name": "stdout",
     "output_type": "stream",
     "text": [
      "     Ticker  Year  gain\n",
      "0        AA  2008   123\n",
      "1      AAPL  2008   123\n",
      "2       ABC  2008   123\n",
      "3       ABI  2008   123\n",
      "4       ABK  2008   123\n",
      "5       ABT  2008   123\n",
      "6      ACAS  2008   123\n",
      "7       ACE  2008   123\n",
      "8       ACS  2008   123\n",
      "9      ADBE  2008   123\n",
      "10      ADI  2008   123\n",
      "11      ADM  2008   123\n",
      "12      ADP  2008   123\n",
      "13     ADSK  2008   123\n",
      "14      AEE  2008   123\n",
      "15      AEP  2008   123\n",
      "16      AES  2008   123\n",
      "17      AET  2008   123\n",
      "18      AFL  2008   123\n",
      "19      AGN  2008   123\n",
      "20      AIG  2008   123\n",
      "21      AIV  2008   123\n",
      "22      AIZ  2008   123\n",
      "23     AKAM  2008   123\n",
      "24      ALL  2008   123\n",
      "25     ALTR  2008   123\n",
      "26     AMAT  2008   123\n",
      "27      AMD  2008   123\n",
      "28     AMGN  2008   123\n",
      "29      AMP  2008   123\n",
      "...     ...   ...   ...\n",
      "4459    WHR  2016   123\n",
      "4460   VIAB  2016   123\n",
      "4461    VLO  2016   123\n",
      "4462     WM  2016   123\n",
      "4463    WMB  2016   123\n",
      "4464    VMC  2016   123\n",
      "4465    WMT  2016   123\n",
      "4466    VNO  2016   123\n",
      "4467   VRSK  2016   123\n",
      "4468   VRSN  2016   123\n",
      "4469   VRTX  2016   123\n",
      "4470    VTR  2016   123\n",
      "4471     VZ  2016   123\n",
      "4472     WU  2016   123\n",
      "4473     WY  2016   123\n",
      "4474    WYN  2016   123\n",
      "4475   WYNN  2016   123\n",
      "4476    XEC  2016   123\n",
      "4477    XEL  2016   123\n",
      "4478     XL  2016   123\n",
      "4479   XLNX  2016   123\n",
      "4480    XOM  2016   123\n",
      "4481   XRAY  2016   123\n",
      "4482    XRX  2016   123\n",
      "4483    XYL  2016   123\n",
      "4484   YHOO  2016   123\n",
      "4485    YUM  2016   123\n",
      "4486    ZBH  2016   123\n",
      "4487   ZION  2016   123\n",
      "4488    ZTS  2016   123\n",
      "\n",
      "[4489 rows x 3 columns]\n"
     ]
    }
   ],
   "source": [
    "# finally , simple way to query by Year\n",
    "df = pd.read_csv('data-SnP-10years-Tickers-byyear-dfready.csv', header=0)\n",
    "df.query('Year == 2016')\n",
    "df2 = df.filter(['Ticker', 'Year'], axis=1)\n",
    "df2['gain' ] = 123\n",
    "pprint(df2)"
   ]
  },
  {
   "cell_type": "code",
   "execution_count": null,
   "metadata": {
    "collapsed": true
   },
   "outputs": [],
   "source": []
  }
 ],
 "metadata": {
  "anaconda-cloud": {},
  "kernelspec": {
   "display_name": "Python [conda root]",
   "language": "python",
   "name": "conda-root-py"
  },
  "language_info": {
   "codemirror_mode": {
    "name": "ipython",
    "version": 3
   },
   "file_extension": ".py",
   "mimetype": "text/x-python",
   "name": "python",
   "nbconvert_exporter": "python",
   "pygments_lexer": "ipython3",
   "version": "3.5.2"
  }
 },
 "nbformat": 4,
 "nbformat_minor": 1
}
