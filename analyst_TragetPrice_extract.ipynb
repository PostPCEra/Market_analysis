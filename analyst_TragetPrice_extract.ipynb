{
 "cells": [
  {
   "cell_type": "code",
   "execution_count": 14,
   "metadata": {
    "collapsed": false,
    "scrolled": true
   },
   "outputs": [],
   "source": [
    "# Lessons Learned \n",
    "# =========================================\n",
    "# 1/ when getting errors, do Cell->Run All , so they may go away\n",
    "# 2/ It seems when using Def functions instead of Flat code with out Defs , we are getting errors\n",
    "# 3/ But Def will help to use local variable names with out global scope , can use same var names  df etc..."
   ]
  },
  {
   "cell_type": "code",
   "execution_count": 69,
   "metadata": {
    "collapsed": true
   },
   "outputs": [],
   "source": [
    "#import desired packages\n",
    "import numpy as np\n",
    "import pandas as pd\n",
    "import traceback\n",
    "from pprint import pprint\n",
    "import seaborn as sns\n",
    "import matplotlib.pyplot as plt\n",
    "%matplotlib inline "
   ]
  },
  {
   "cell_type": "code",
   "execution_count": 70,
   "metadata": {
    "collapsed": true
   },
   "outputs": [],
   "source": [
    "import requests\n",
    "def extract_target_price(ticker):\n",
    "    url = \"https://query2.finance.yahoo.com/v10/finance/quoteSummary/\"\n",
    "    url = url + ticker + \"?formatted=true&crumb=RqWcRwtueFe&lang=en-US&region=US&modules=upgradeDowngradeHistory%2CrecommendationTrend%2CfinancialData%2CearningsHistory%2CearningsTrend%2CindustryTrend&corsDomain=finance.yahoo.com\"\n",
    "    #print(url)\n",
    "    try:\n",
    "        resp = requests.get(url)\n",
    "        return resp.json()\n",
    "    except: \n",
    "        traceback.print_exc()\n",
    "        pprint(\"Requests ERROR for ticker:\" + ticker)\n",
    "        return False\n",
    "    "
   ]
  },
  {
   "cell_type": "code",
   "execution_count": 71,
   "metadata": {
    "collapsed": false
   },
   "outputs": [],
   "source": [
    "import time\n",
    "\n",
    "def get_target_price_record(ticker): \n",
    "    json_data = extract_target_price(ticker)\n",
    "    #pprint(resp)\n",
    "    s2 = json_data['quoteSummary']['result'][0] # there is a List( []), so get 0 th element\n",
    "    s = s2['financialData']\n",
    "\n",
    "    # Analyst Traget Prices\n",
    "    current = float(s['currentPrice']['fmt'])\n",
    "    low = float(s['targetLowPrice']['fmt'])\n",
    "    median = float(s['targetMedianPrice']['fmt'])\n",
    "    mean = float(s['targetMeanPrice']['fmt'])\n",
    "    hi = float(s['targetHighPrice']['fmt'])\n",
    "\n",
    "    today = time.strftime(\"%Y-%m-%d\")\n",
    "    target_price_rec = [ticker, today, current, low, median, mean, hi]\n",
    "    return target_price_rec\n"
   ]
  },
  {
   "cell_type": "code",
   "execution_count": 72,
   "metadata": {
    "collapsed": false
   },
   "outputs": [],
   "source": [
    "def create_tatprice_lstrget_price_masterfile():\n",
    "\n",
    "    #import SnP Symbol list \n",
    "    snp_tickers_allyears = pd.read_csv('data-SnP-10years-Tickers-byyear-dfready.csv', header=0)\n",
    "\n",
    "    tprice_lst = []\n",
    "    nodata_found_lst = []\n",
    "\n",
    "    year = 2015 \n",
    "    #llst = snp_tickers_allyears.query('Year == @year').values.tolist()\n",
    "    llst = [ ['Ticker', 'Year'], ['FIT', 2008]]  # use this for Testing one ROW\n",
    "    \n",
    "    for stock in llst[1:] :  # skip 0 th element being it header\n",
    "        # here index are : 0 - TIcker , 1 - year\n",
    "        #print('trying to fetch data for ' + stock[0])\n",
    "        try:\n",
    "            rec = get_target_price_record(stock[0])  \n",
    "            if len(rec) > 0:\n",
    "                tprice_lst.append(rec)\n",
    "                print( rec + ' good')\n",
    "            else:\n",
    "                print(stock[0])\n",
    "                nodata_found_lst.append(stock)\n",
    "        except:\n",
    "            nodata_found_lst.append(stock)\n",
    "            #print('Exception for { }, year {}'.format(stock[0], stock[1])\n",
    "\n",
    "    df = pd.DataFrame(tprice_lst)\n",
    "    cols = ['Ticker', 'Date', 'Current', 'Low_tp', 'Median_tp', 'Mean_tp', 'High_tp']\n",
    "    df.columns = cols\n",
    "    df['Below_median'] = round( ((df['Current'] - df['Median_tp']) * 100 )/df['Current'], 1) \n",
    "    df['Below_mean'] = round( ((df['Current'] - df['Mean_tp']) * 100 )/df['Current'], 1)\n",
    "    print(cols)\n",
    "    df2 = df.sort_values(by='Below_median', ascending=True)\n",
    "    df2.to_csv('data-analyst-target-price.csv', index=False)\n",
    "\n",
    "    print(df2)\n",
    "    nodata_df = pd.DataFrame(nodata_found_lst)\n",
    "    nodata_df.columns = ['Ticker', 'Year']\n",
    "    nodata_df.to_csv('data-nodata-found-target-price.csv', index=False)\n"
   ]
  },
  {
   "cell_type": "code",
   "execution_count": 73,
   "metadata": {
    "collapsed": false
   },
   "outputs": [
    {
     "name": "stdout",
     "output_type": "stream",
     "text": [
      "FIT is good\n"
     ]
    }
   ],
   "source": [
    "create_target_price_masterfile()"
   ]
  },
  {
   "cell_type": "code",
   "execution_count": null,
   "metadata": {
    "collapsed": true
   },
   "outputs": [],
   "source": []
  }
 ],
 "metadata": {
  "anaconda-cloud": {},
  "kernelspec": {
   "display_name": "Python [conda root]",
   "language": "python",
   "name": "conda-root-py"
  },
  "language_info": {
   "codemirror_mode": {
    "name": "ipython",
    "version": 3
   },
   "file_extension": ".py",
   "mimetype": "text/x-python",
   "name": "python",
   "nbconvert_exporter": "python",
   "pygments_lexer": "ipython3",
   "version": "3.5.2"
  }
 },
 "nbformat": 4,
 "nbformat_minor": 1
}
